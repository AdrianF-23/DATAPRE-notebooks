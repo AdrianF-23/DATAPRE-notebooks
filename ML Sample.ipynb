{
 "cells": [
  {
   "cell_type": "code",
   "execution_count": 1,
   "id": "4d529b03",
   "metadata": {},
   "outputs": [],
   "source": [
    "import pandas as pd\n",
    "import numpy as np\n",
    "import matplotlib.pyplot as plt\n",
    "from sklearn.metrics import mean_absolute_error\n",
    "import seaborn as sn"
   ]
  },
  {
   "cell_type": "code",
   "execution_count": 2,
   "id": "383f94c7",
   "metadata": {},
   "outputs": [],
   "source": [
    "test_data = pd.read_csv(\"test.csv\")\n",
    "train_data = pd.read_csv(\"train.csv\")\n",
    "test_id = test_data.id"
   ]
  },
  {
   "cell_type": "code",
   "execution_count": 3,
   "id": "669e48dd",
   "metadata": {},
   "outputs": [
    {
     "name": "stdout",
     "output_type": "stream",
     "text": [
      "Number of features:  6\n"
     ]
    }
   ],
   "source": [
    "## Data Parsing\n",
    "features = ['totalSulfurDioxide', 'freeSulfurDioxide', 'residualSugar', 'alcohol', 'volatileAcidity', 'fixedAcidity']\n",
    "\n",
    "print('Number of features: ', len(features))\n",
    "x_train = train_data[features]\n",
    "y_train = train_data.quality\n"
   ]
  },
  {
   "cell_type": "code",
   "execution_count": 4,
   "id": "4e2e7d7f",
   "metadata": {},
   "outputs": [
    {
     "name": "stdout",
     "output_type": "stream",
     "text": [
      "   totalSulfurDioxide  freeSulfurDioxide  residualSugar   alcohol  \\\n",
      "0           -1.123105          -0.213367      -0.783513 -0.282301   \n",
      "1           -1.123105          -0.213367      -0.783513 -0.282301   \n",
      "2           -1.238886          -0.812616      -0.868565 -1.242198   \n",
      "3           -1.624823          -0.649185      -0.655935  1.717484   \n",
      "4           -1.721308          -1.193957      -0.677198  1.557501   \n",
      "\n",
      "   volatileAcidity  fixedAcidity  \n",
      "0         0.510416      0.353763  \n",
      "1         0.510416      0.353763  \n",
      "2         0.694575      1.774963  \n",
      "3         1.584681     -1.168951  \n",
      "4        -0.103450      1.571935  \n"
     ]
    }
   ],
   "source": [
    "# get actual test data\n",
    "actual_x_test = test_data[features]\n",
    "actual_x_test_mu = np.mean(actual_x_test)\n",
    "actual_x_test_sigma = np.std(actual_x_test)\n",
    "actual_x_test_norm = np.divide((actual_x_test - actual_x_test_mu), actual_x_test_sigma)\n",
    "print(actual_x_test_norm.head(5))"
   ]
  },
  {
   "cell_type": "code",
   "execution_count": 5,
   "id": "326bace7",
   "metadata": {},
   "outputs": [],
   "source": [
    "# feature normalization\n",
    "x_train_mu = np.mean(x_train)\n",
    "x_train_sigma = np.std(x_train)\n",
    "x_train_norm = np.divide((x_train - x_train_mu), x_train_sigma)"
   ]
  },
  {
   "cell_type": "code",
   "execution_count": 6,
   "id": "96d8fa62",
   "metadata": {},
   "outputs": [],
   "source": [
    "# train-test-split\n",
    "from sklearn.model_selection import train_test_split\n",
    "train_x, val_x, train_y, val_y = train_test_split(x_train_norm, y_train, random_state=1, train_size=0.75)\n",
    "\n",
    "from sklearn.ensemble import RandomForestClassifier\n",
    "\n",
    "error = []\n",
    "def get_mae(max_leaf_nodes, train_x, val_x, train_y, val_y, error):\n",
    "    rf_model = RandomForestClassifier(max_leaf_nodes=max_leaf_nodes, random_state=5)\n",
    "    rf_model.fit(train_x, train_y)\n",
    "    preds_val = rf_model.predict(val_x)\n",
    "    mae = mean_absolute_error(val_y, preds_val)\n",
    "    error.append(mae)\n",
    "    return(mae)\n"
   ]
  },
  {
   "cell_type": "code",
   "execution_count": 7,
   "id": "faad5eb6",
   "metadata": {},
   "outputs": [
    {
     "name": "stdout",
     "output_type": "stream",
     "text": [
      "\n",
      "In sample MAE 0.0\n"
     ]
    }
   ],
   "source": [
    "# Using In Sample Data\n",
    "rf_model = RandomForestClassifier(random_state=0)\n",
    "rf_model.fit(x_train_norm, y_train)\n",
    "predicted = rf_model.predict(x_train_norm)\n",
    "print(\"\\nIn sample MAE \" + str(round(mean_absolute_error(y_train, predicted), 10)))"
   ]
  },
  {
   "cell_type": "code",
   "execution_count": 8,
   "id": "ff7c05a4-a0e2-44cc-b06d-017da3ec7925",
   "metadata": {},
   "outputs": [
    {
     "name": "stdout",
     "output_type": "stream",
     "text": [
      "Out Sample MAE 0.38434\n"
     ]
    }
   ],
   "source": [
    "# Using Out Sample Data\n",
    "rf_model = RandomForestClassifier(random_state=0)\n",
    "rf_model.fit(train_x, train_y)\n",
    "val_predictions = rf_model.predict(val_x)\n",
    "print(\"Out Sample MAE \" + str(round(mean_absolute_error(val_y, val_predictions), 5)))"
   ]
  },
  {
   "cell_type": "code",
   "execution_count": 9,
   "id": "b50e7060-888a-4fcf-a477-0417cbb517ac",
   "metadata": {},
   "outputs": [
    {
     "name": "stdin",
     "output_type": "stream",
     "text": [
      "\n",
      "Enter attempt size:  5\n"
     ]
    },
    {
     "name": "stdout",
     "output_type": "stream",
     "text": [
      "\n"
     ]
    },
    {
     "name": "stdin",
     "output_type": "stream",
     "text": [
      "Enter max leaf nodes:  10\n",
      "Enter max leaf nodes:  100\n",
      "Enter max leaf nodes:  1000\n",
      "Enter max leaf nodes:  10000\n",
      "Enter max leaf nodes:  20000\n"
     ]
    }
   ],
   "source": [
    "# get node size\n",
    "i = 0\n",
    "node_size = int(input(\"\\nEnter attempt size: \"))\n",
    "print(\"\")\n",
    "amt_leaf = []\n",
    "while i != node_size:\n",
    "    amt_leaf.append(int(input(\"Enter max leaf nodes: \")))\n",
    "    i += 1\n",
    "## take MAE per leaf node\n",
    "for max_leaf_nodes in amt_leaf:\n",
    "    mae = get_mae(max_leaf_nodes, train_x, val_x, train_y, val_y, error)"
   ]
  },
  {
   "cell_type": "code",
   "execution_count": 10,
   "id": "d677bde3-5a3c-40d7-9a5d-d0b704decb13",
   "metadata": {},
   "outputs": [
    {
     "name": "stdout",
     "output_type": "stream",
     "text": [
      "\n",
      "Error Summary\n",
      " 10       0.551451\n",
      "100      0.490765\n",
      "1000     0.390501\n",
      "10000    0.390501\n",
      "20000    0.390501\n",
      "dtype: float64\n"
     ]
    }
   ],
   "source": [
    "error_sum = pd.Series(error, index=[amt_leaf])\n",
    "print(\"\\nError Summary\\n\",error_sum)"
   ]
  },
  {
   "cell_type": "code",
   "execution_count": 13,
   "id": "17408773-e225-41d4-84f6-5d8a4ba9cb30",
   "metadata": {},
   "outputs": [
    {
     "name": "stdout",
     "output_type": "stream",
     "text": [
      "\n",
      "best depth:  1000\n",
      "1949\n",
      "Array Shape:  (1949, 2)\n"
     ]
    }
   ],
   "source": [
    "# take best mae\n",
    "loc_best_mae = error.index(min(error))\n",
    "best_depth = amt_leaf[loc_best_mae]\n",
    "print(\"\\nbest depth: \",best_depth)\n",
    "\n",
    "# creating and fitting rf model with best parameter\n",
    "rf_model = RandomForestClassifier(max_leaf_nodes=best_depth, random_state=30, max_depth=7)\n",
    "rf_model.fit(x_train_norm, y_train)\n",
    "\n",
    "# use test data to predict\n",
    "rf_output = rf_model.predict(actual_x_test_norm)\n",
    "print(len(rf_output))\n",
    "submit = pd.DataFrame({'id':test_id, 'quality':rf_output})\n",
    "print(\"Array Shape: \", submit.shape)"
   ]
  },
  {
   "cell_type": "code",
   "execution_count": null,
   "id": "fd61ae02-6f58-4c07-9ca3-aebd5fc32e03",
   "metadata": {},
   "outputs": [],
   "source": []
  }
 ],
 "metadata": {
  "kernelspec": {
   "display_name": "Python 3 (ipykernel)",
   "language": "python",
   "name": "python3"
  },
  "language_info": {
   "codemirror_mode": {
    "name": "ipython",
    "version": 3
   },
   "file_extension": ".py",
   "mimetype": "text/x-python",
   "name": "python",
   "nbconvert_exporter": "python",
   "pygments_lexer": "ipython3",
   "version": "3.9.2"
  }
 },
 "nbformat": 4,
 "nbformat_minor": 5
}
