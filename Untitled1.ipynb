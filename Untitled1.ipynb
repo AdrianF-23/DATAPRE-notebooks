{
 "cells": [
  {
   "cell_type": "code",
   "execution_count": 17,
   "id": "4d529b03",
   "metadata": {},
   "outputs": [
    {
     "ename": "ModuleNotFoundError",
     "evalue": "No module named 'sklearn'",
     "output_type": "error",
     "traceback": [
      "\u001b[1;31m---------------------------------------------------------------------------\u001b[0m",
      "\u001b[1;31mModuleNotFoundError\u001b[0m                       Traceback (most recent call last)",
      "Input \u001b[1;32mIn [17]\u001b[0m, in \u001b[0;36m<cell line: 4>\u001b[1;34m()\u001b[0m\n\u001b[0;32m      2\u001b[0m \u001b[38;5;28;01mimport\u001b[39;00m \u001b[38;5;21;01mnumpy\u001b[39;00m \u001b[38;5;28;01mas\u001b[39;00m \u001b[38;5;21;01mnp\u001b[39;00m\n\u001b[0;32m      3\u001b[0m \u001b[38;5;28;01mimport\u001b[39;00m \u001b[38;5;21;01mmatplotlib\u001b[39;00m\u001b[38;5;21;01m.\u001b[39;00m\u001b[38;5;21;01mpyplot\u001b[39;00m \u001b[38;5;28;01mas\u001b[39;00m \u001b[38;5;21;01mplt\u001b[39;00m\n\u001b[1;32m----> 4\u001b[0m \u001b[38;5;28;01mfrom\u001b[39;00m \u001b[38;5;21;01msklearn\u001b[39;00m\u001b[38;5;21;01m.\u001b[39;00m\u001b[38;5;21;01mmetrics\u001b[39;00m \u001b[38;5;28;01mimport\u001b[39;00m mean_absolute_error\n\u001b[0;32m      5\u001b[0m \u001b[38;5;28;01mimport\u001b[39;00m \u001b[38;5;21;01mseaborn\u001b[39;00m \u001b[38;5;28;01mas\u001b[39;00m \u001b[38;5;21;01msn\u001b[39;00m\n",
      "\u001b[1;31mModuleNotFoundError\u001b[0m: No module named 'sklearn'"
     ]
    }
   ],
   "source": [
    "import pandas as pd\n",
    "import numpy as np\n",
    "import matplotlib.pyplot as plt\n",
    "from sklearn.metrics import mean_absolute_error\n",
    "import seaborn as sn"
   ]
  },
  {
   "cell_type": "code",
   "execution_count": 9,
   "id": "383f94c7",
   "metadata": {},
   "outputs": [],
   "source": [
    "test_data = pd.read_csv(\"test.csv\")\n",
    "train_data = pd.read_csv(\"train.csv\")"
   ]
  },
  {
   "cell_type": "code",
   "execution_count": 10,
   "id": "669e48dd",
   "metadata": {},
   "outputs": [
    {
     "name": "stdout",
     "output_type": "stream",
     "text": [
      "Number of features:  6\n"
     ]
    }
   ],
   "source": [
    "## Data Parsing\n",
    "features = ['totalSulfurDioxide', 'freeSulfurDioxide', 'residualSugar', 'alcohol', 'volatileAcidity', 'fixedAcidity']\n",
    "\n",
    "print('Number of features: ', len(features))\n",
    "x_train = train_data[features]\n",
    "y_train = train_data.quality\n"
   ]
  },
  {
   "cell_type": "code",
   "execution_count": 13,
   "id": "4e2e7d7f",
   "metadata": {},
   "outputs": [
    {
     "name": "stdout",
     "output_type": "stream",
     "text": [
      "   totalSulfurDioxide  freeSulfurDioxide  residualSugar   alcohol  \\\n",
      "0           -1.123105          -0.213367      -0.783513 -0.282301   \n",
      "1           -1.123105          -0.213367      -0.783513 -0.282301   \n",
      "2           -1.238886          -0.812616      -0.868565 -1.242198   \n",
      "3           -1.624823          -0.649185      -0.655935  1.717484   \n",
      "4           -1.721308          -1.193957      -0.677198  1.557501   \n",
      "\n",
      "   volatileAcidity  fixedAcidity  \n",
      "0         0.510416      0.353763  \n",
      "1         0.510416      0.353763  \n",
      "2         0.694575      1.774963  \n",
      "3         1.584681     -1.168951  \n",
      "4        -0.103450      1.571935  \n"
     ]
    }
   ],
   "source": [
    "# get actual test data\n",
    "actual_x_test = test_data[features]\n",
    "actual_x_test_mu = np.mean(actual_x_test)\n",
    "actual_x_test_sigma = np.std(actual_x_test)\n",
    "actual_x_test_norm = np.divide((actual_x_test - actual_x_test_mu), actual_x_test_sigma)\n",
    "print(actual_x_test_norm.head(5))"
   ]
  },
  {
   "cell_type": "code",
   "execution_count": 15,
   "id": "326bace7",
   "metadata": {},
   "outputs": [],
   "source": [
    "# feature normalization\n",
    "x_train_mu = np.mean(x_train)\n",
    "x_train_sigma = np.std(x_train)\n",
    "x_train_norm = np.divide((x_train - x_train_mu), x_train_sigma)"
   ]
  },
  {
   "cell_type": "code",
   "execution_count": 16,
   "id": "96d8fa62",
   "metadata": {},
   "outputs": [
    {
     "ename": "ModuleNotFoundError",
     "evalue": "No module named 'sklearn'",
     "output_type": "error",
     "traceback": [
      "\u001b[1;31m---------------------------------------------------------------------------\u001b[0m",
      "\u001b[1;31mModuleNotFoundError\u001b[0m                       Traceback (most recent call last)",
      "Input \u001b[1;32mIn [16]\u001b[0m, in \u001b[0;36m<cell line: 2>\u001b[1;34m()\u001b[0m\n\u001b[0;32m      1\u001b[0m \u001b[38;5;66;03m# train-test-split\u001b[39;00m\n\u001b[1;32m----> 2\u001b[0m \u001b[38;5;28;01mfrom\u001b[39;00m \u001b[38;5;21;01msklearn\u001b[39;00m\u001b[38;5;21;01m.\u001b[39;00m\u001b[38;5;21;01mmodel_selection\u001b[39;00m \u001b[38;5;28;01mimport\u001b[39;00m train_test_split\n\u001b[0;32m      3\u001b[0m train_x, val_x, train_y, val_y \u001b[38;5;241m=\u001b[39m train_test_split(x_train_norm, y_train, random_state\u001b[38;5;241m=\u001b[39m\u001b[38;5;241m1\u001b[39m, train_size\u001b[38;5;241m=\u001b[39m\u001b[38;5;241m0.75\u001b[39m)\n\u001b[0;32m      5\u001b[0m \u001b[38;5;28;01mfrom\u001b[39;00m \u001b[38;5;21;01msklearn\u001b[39;00m\u001b[38;5;21;01m.\u001b[39;00m\u001b[38;5;21;01mensemble\u001b[39;00m \u001b[38;5;28;01mimport\u001b[39;00m RandomForestClassifier\n",
      "\u001b[1;31mModuleNotFoundError\u001b[0m: No module named 'sklearn'"
     ]
    }
   ],
   "source": [
    "# train-test-split\n",
    "from sklearn.model_selection import train_test_split\n",
    "train_x, val_x, train_y, val_y = train_test_split(x_train_norm, y_train, random_state=1, train_size=0.75)\n",
    "\n",
    "from sklearn.ensemble import RandomForestClassifier\n",
    "\n",
    "error = []\n",
    "def get_mae(max_leaf_nodes, train_x, val_x, train_y, val_y, error):\n",
    "    rf_model = RandomForestClassifier(max_leaf_nodes=max_leaf_nodes, random_state=5)\n",
    "    rf_model.fit(train_x, train_y)\n",
    "    preds_val = rf_model.predict(val_x)\n",
    "    mae = mean_absolute_error(val_y, preds_val)\n",
    "    error.append(mae)\n",
    "    return(mae)\n"
   ]
  },
  {
   "cell_type": "code",
   "execution_count": null,
   "id": "faad5eb6",
   "metadata": {},
   "outputs": [],
   "source": []
  }
 ],
 "metadata": {
  "kernelspec": {
   "display_name": "Python 3 (ipykernel)",
   "language": "python",
   "name": "python3"
  },
  "language_info": {
   "codemirror_mode": {
    "name": "ipython",
    "version": 3
   },
   "file_extension": ".py",
   "mimetype": "text/x-python",
   "name": "python",
   "nbconvert_exporter": "python",
   "pygments_lexer": "ipython3",
   "version": "3.9.2"
  }
 },
 "nbformat": 4,
 "nbformat_minor": 5
}
