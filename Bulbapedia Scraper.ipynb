{
 "cells": [
  {
   "cell_type": "markdown",
   "id": "2f3011f5-c3cf-4482-a0c0-28434c976373",
   "metadata": {},
   "source": [
    "# Pokedex Generator\n",
    "Takes the following information regarding the pokemons\n",
    "- National Pokedex ID (ndex)\n",
    "- Regional Pokedex ID (rdex)\n",
    "- Pokemon's Name\n",
    "- Type/s\n",
    "- URL page to the Pokemon"
   ]
  },
  {
   "cell_type": "markdown",
   "id": "38796632-bdad-42ff-93dc-e5256f813b91",
   "metadata": {},
   "source": [
    "### Import Packages"
   ]
  },
  {
   "cell_type": "code",
   "execution_count": 1,
   "id": "c61ea1d8-5d8b-4027-ad03-e661b41ea34e",
   "metadata": {},
   "outputs": [],
   "source": [
    "import pandas as pd\n",
    "import requests\n",
    "from bs4 import BeautifulSoup\n",
    "from collections import Counter"
   ]
  },
  {
   "cell_type": "markdown",
   "id": "c4a777f1-9374-4f0c-b6f2-920662980b56",
   "metadata": {},
   "source": [
    "### Get and parse URL information"
   ]
  },
  {
   "cell_type": "code",
   "execution_count": 2,
   "id": "78280650-f5a5-48d4-aa8f-0319d590abd6",
   "metadata": {},
   "outputs": [],
   "source": [
    "url = 'https://bulbapedia.bulbagarden.net/wiki/List_of_Pok%C3%A9mon_by_National_Pok%C3%A9dex_number'\n",
    "base_url = 'bulbapedia.bulbagarden.net'\n",
    "main_page = requests.get(url)\n",
    "main_soup = BeautifulSoup(main_page.content, 'html.parser')"
   ]
  },
  {
   "cell_type": "markdown",
   "id": "a7dd8678-c6f9-4ea1-86ee-8e7e759eec4c",
   "metadata": {},
   "source": [
    "### Locate elements that contain the necessary information"
   ]
  },
  {
   "cell_type": "code",
   "execution_count": 3,
   "id": "a514e57b-775e-4590-937a-14734b25252e",
   "metadata": {
    "tags": []
   },
   "outputs": [],
   "source": [
    "main_page_content = main_soup.find('div', id = 'mw-content-text')\n",
    "main_page_tables = main_page_content.find_all('table')"
   ]
  },
  {
   "cell_type": "markdown",
   "id": "6a6412ea-0a3d-48e6-af88-30c4a89f7347",
   "metadata": {},
   "source": [
    "### Create Scraper Function"
   ]
  },
  {
   "cell_type": "code",
   "execution_count": 4,
   "id": "80809865-2292-4553-8b2b-2394269e8443",
   "metadata": {
    "tags": []
   },
   "outputs": [],
   "source": [
    "def scrape(dex_content, dex_index):\n",
    "    indexed_table = zip(dex_content, dex_index)\n",
    "    poke_info_list = []\n",
    "\n",
    "    for poke_val, index_val in indexed_table:\n",
    "        #skips the odd indexed values on the table since it is blanked\n",
    "        if index_val%2 == 0 and index_val != 0:\n",
    "            raw_poke_info = poke_val.text.strip().split('\\n')\n",
    "            raw_links = poke_val.find('a', href = True)\n",
    "            poke_url = base_url + str(raw_links['href'])\n",
    "\n",
    "            # Normal form, double type\n",
    "            if len(raw_poke_info) == 10:\n",
    "                rdex = raw_poke_info[0]\n",
    "                ndex = raw_poke_info[2]\n",
    "                name = raw_poke_info[6]\n",
    "                type_1 = raw_poke_info[8]\n",
    "                type_2 = raw_poke_info[9]\n",
    "                cat = 'Normal Form Double Type'\n",
    "\n",
    "            # Normal form, single type\n",
    "            elif len(raw_poke_info) == 9:\n",
    "                rdex = raw_poke_info[0]\n",
    "                ndex = raw_poke_info[2]\n",
    "                name = raw_poke_info[6]\n",
    "                type_1 = raw_poke_info[8]\n",
    "                type_2 = ''\n",
    "                cat = 'Normal Form Single Type'\n",
    "\n",
    "            # Regional form, double type\n",
    "            elif len(raw_poke_info) == 8:\n",
    "                rdex = ''\n",
    "                ndex = raw_poke_info[0]\n",
    "                name = raw_poke_info[4]\n",
    "                type_1 = raw_poke_info[6]\n",
    "                type_2 = raw_poke_info[7]\n",
    "                cat = 'Regional Form Double Type'\n",
    "\n",
    "            # Regional form, single type\n",
    "            elif len(raw_poke_info) == 7:\n",
    "                rdex = ''\n",
    "                ndex = raw_poke_info[0]\n",
    "                name = raw_poke_info[4]\n",
    "                type_1 = raw_poke_info[6]\n",
    "                type_2 = ''\n",
    "                cat = 'Regional Form Single Type'\n",
    "\n",
    "            else:\n",
    "                print('Check row with length of', len(raw_poke_info))\n",
    "\n",
    "            poke_info_list.append((rdex, ndex, name, type_1, type_2, cat, poke_url))\n",
    "            \n",
    "            labels = ['rdex', 'ndex', 'name', 'type_1', 'type_2', 'category', 'pokemon_wiki_url']\n",
    "            df_poke_info_list = pd.DataFrame(poke_info_list, columns = labels)\n",
    "            \n",
    "            df_poke_info_list.to_csv('Pokemon Generation ' + str(y) + ' List CSV.csv', index = False)\n",
    "            df_poke_info_list.to_json('Pokemon Generation ' + str(y) + ' List JSON.json', orient = 'records')"
   ]
  },
  {
   "cell_type": "markdown",
   "id": "65015d66-e0ed-41fa-ae93-3c362a773c60",
   "metadata": {
    "tags": []
   },
   "source": [
    "### Execute"
   ]
  },
  {
   "cell_type": "code",
   "execution_count": 5,
   "id": "b357e7f2-fb99-42ab-9372-bb903ba4d9f3",
   "metadata": {
    "tags": []
   },
   "outputs": [
    {
     "name": "stdout",
     "output_type": "stream",
     "text": [
      "Exported Gen 1 to CSV and JSON\n",
      "Exported Gen 2 to CSV and JSON\n",
      "Exported Gen 3 to CSV and JSON\n",
      "Exported Gen 4 to CSV and JSON\n",
      "Exported Gen 5 to CSV and JSON\n",
      "Exported Gen 6 to CSV and JSON\n",
      "Exported Gen 7 to CSV and JSON\n",
      "Exported Gen 8 to CSV and JSON\n",
      "Exported Gen 9 to CSV and JSON\n"
     ]
    }
   ],
   "source": [
    "poke_gen_index = range(0,9)\n",
    "full_poke_table = zip(main_page_tables, poke_gen_index)\n",
    "generation = 1\n",
    "\n",
    "for x, y in full_poke_table:\n",
    "    dex_content = x.contents[1]\n",
    "    dex_index = range(0, len(dex_content))\n",
    "    scrape(dex_content, dex_index)\n",
    "    print('Exported Gen', generation, 'to CSV and JSON')\n",
    "    generation += 1"
   ]
  },
  {
   "cell_type": "code",
   "execution_count": null,
   "id": "cd39e888-84f1-4931-bf0b-957988e8ee87",
   "metadata": {},
   "outputs": [],
   "source": []
  }
 ],
 "metadata": {
  "kernelspec": {
   "display_name": "Python 3 (ipykernel)",
   "language": "python",
   "name": "python3"
  },
  "language_info": {
   "codemirror_mode": {
    "name": "ipython",
    "version": 3
   },
   "file_extension": ".py",
   "mimetype": "text/x-python",
   "name": "python",
   "nbconvert_exporter": "python",
   "pygments_lexer": "ipython3",
   "version": "3.9.2"
  }
 },
 "nbformat": 4,
 "nbformat_minor": 5
}
