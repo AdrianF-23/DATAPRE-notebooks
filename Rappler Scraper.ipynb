{
 "cells": [
  {
   "cell_type": "code",
   "execution_count": 57,
   "id": "2c28c2dd",
   "metadata": {},
   "outputs": [],
   "source": [
    "import requests\n",
    "import pandas as pd\n",
    "import numpy as np\n",
    "from bs4 import BeautifulSoup"
   ]
  },
  {
   "cell_type": "markdown",
   "id": "72e1e571-cd9c-42da-86a7-d8d7647e71e3",
   "metadata": {},
   "source": [
    "# News Scraper\n",
    "Objective:\n",
    "To take the following information from several online news articles by Rappler:\n",
    "- date\n",
    "- title\n",
    "- full article\n",
    "- author\n",
    "\n",
    "Exports the scraped article information to JSON"
   ]
  },
  {
   "cell_type": "markdown",
   "id": "fc7d49bf-439a-452a-83a4-0a4ea317432b",
   "metadata": {},
   "source": [
    "### Get URL using requests"
   ]
  },
  {
   "cell_type": "code",
   "execution_count": 58,
   "id": "39928e02-1e06-487c-a31e-1af32e407d12",
   "metadata": {},
   "outputs": [],
   "source": [
    "url = 'https://www.rappler.com/'\n",
    "webpage = requests.get(url)"
   ]
  },
  {
   "cell_type": "markdown",
   "id": "f337aa6b-eaf5-40da-b755-240d307ce765",
   "metadata": {},
   "source": [
    "### Parse HTML Data"
   ]
  },
  {
   "cell_type": "code",
   "execution_count": 59,
   "id": "0cbe8ada-8bbf-4caf-a9a2-a44e7fb4ea94",
   "metadata": {},
   "outputs": [],
   "source": [
    "soup = BeautifulSoup(webpage.content, 'html.parser')"
   ]
  },
  {
   "cell_type": "code",
   "execution_count": 60,
   "id": "8c1c6a12-825e-43b4-9997-8afd6aac8fa9",
   "metadata": {},
   "outputs": [],
   "source": [
    "# take top stories of main page\n",
    "article_links = []\n",
    "# page_main_head = soup.find('div', id = 'top-stories')\n",
    "\n",
    "# can also take all of the articles on the main page\n",
    "page_main_head = soup.find('div', class_ = 'container')"
   ]
  },
  {
   "cell_type": "code",
   "execution_count": 61,
   "id": "6b434e2a-c69e-498e-894a-253d892317a5",
   "metadata": {},
   "outputs": [],
   "source": [
    "# takes url of all the articles on Rappler's main page\n",
    "# parameters set in the find_all are specified such that it skips unecessary links such as share buttons, category links, etc.\n",
    "for a in page_main_head.find_all('a', type = False, target = False, class_ = False):\n",
    "    raw_link = a.get('href')\n",
    "    article_links.append(raw_link)"
   ]
  },
  {
   "cell_type": "code",
   "execution_count": 62,
   "id": "d19fd7a7-8740-4702-b4b1-c865578b1020",
   "metadata": {},
   "outputs": [],
   "source": [
    "#removes any duplicate links within the list\n",
    "final_links = list(set(article_links))"
   ]
  },
  {
   "cell_type": "markdown",
   "id": "a3c2045b-b6cc-49cf-ac8c-1545984bce0b",
   "metadata": {},
   "source": [
    "### Create scraper function to be called per item on the link array"
   ]
  },
  {
   "cell_type": "code",
   "execution_count": 63,
   "id": "a23d4ef2-57f4-41a5-a0aa-fdee9ea20410",
   "metadata": {},
   "outputs": [],
   "source": [
    "article_details = []\n",
    "def scraper(site_url):\n",
    "    url = site_url\n",
    "    article_webpage = requests.get(url)\n",
    "    sub_soup = BeautifulSoup(article_webpage.content, 'html.parser')\n",
    "    article_hl = sub_soup.find('h1', class_ = 'post-single__title').text.strip()\n",
    "    article_time = sub_soup.find('time', class_ = 'entry-date published').text.strip()\n",
    "    article_auth = sub_soup.find('div', class_ = 'post-single__authors').text.strip()\n",
    "    content = sub_soup.find('div', class_ = 'post-single__content entry-content')\n",
    "    get_article_par = content.find_all('p')\n",
    "    article_par = gettext(get_article_par)\n",
    "    article_details.append((article_hl, article_time, article_auth, article_par))\n",
    "    return article_details\n",
    "    \n",
    "def gettext(get_article_par):\n",
    "    article_txt = []\n",
    "    for par in get_article_par:\n",
    "        text = par.text.strip()\n",
    "        article_txt.append(text)\n",
    "        article_full = \" \".join(article_txt)\n",
    "    return article_full"
   ]
  },
  {
   "cell_type": "code",
   "execution_count": 64,
   "id": "207c9445-2f3f-4976-b91e-851b46f831a4",
   "metadata": {
    "tags": []
   },
   "outputs": [],
   "source": [
    "for link in final_links:\n",
    "    articles = scraper(link)"
   ]
  },
  {
   "cell_type": "markdown",
   "id": "176453af-d2da-4777-b8d1-38322733734b",
   "metadata": {},
   "source": [
    "### Format table to pandas dataframe then export to JSON"
   ]
  },
  {
   "cell_type": "code",
   "execution_count": 65,
   "id": "9f662486-e06d-464c-b4de-87dc0bd08f58",
   "metadata": {},
   "outputs": [],
   "source": [
    "label = ['headline', 'date', 'author', 'full_article']\n",
    "df_article_deets = pd.DataFrame(articles, columns = label)\n",
    "df_article_deets.to_json('Rappler Articles JSON.json', orient = 'records')"
   ]
  },
  {
   "cell_type": "code",
   "execution_count": 66,
   "id": "85d0d249-c54f-44e3-9030-81f99f864573",
   "metadata": {},
   "outputs": [
    {
     "data": {
      "text/html": [
       "<div>\n",
       "<style scoped>\n",
       "    .dataframe tbody tr th:only-of-type {\n",
       "        vertical-align: middle;\n",
       "    }\n",
       "\n",
       "    .dataframe tbody tr th {\n",
       "        vertical-align: top;\n",
       "    }\n",
       "\n",
       "    .dataframe thead th {\n",
       "        text-align: right;\n",
       "    }\n",
       "</style>\n",
       "<table border=\"1\" class=\"dataframe\">\n",
       "  <thead>\n",
       "    <tr style=\"text-align: right;\">\n",
       "      <th></th>\n",
       "      <th>headline</th>\n",
       "      <th>date</th>\n",
       "      <th>author</th>\n",
       "      <th>full_article</th>\n",
       "    </tr>\n",
       "  </thead>\n",
       "  <tbody>\n",
       "    <tr>\n",
       "      <th>0</th>\n",
       "      <td>A prolonged China slowdown raises risks for gl...</td>\n",
       "      <td>Apr 21, 2022 9:45 PM PHT</td>\n",
       "      <td>Reuters</td>\n",
       "      <td>BOAO, China – A prolonged slowdown in China wo...</td>\n",
       "    </tr>\n",
       "    <tr>\n",
       "      <th>1</th>\n",
       "      <td>Withdraw from race? ‘This fight is more than a...</td>\n",
       "      <td>Apr 21, 2022 8:00 PM PHT</td>\n",
       "      <td>Bea Cupin</td>\n",
       "      <td>CEBU, Philippines – Vice President Leni Robred...</td>\n",
       "    </tr>\n",
       "    <tr>\n",
       "      <th>2</th>\n",
       "      <td>CAMPAIGN TRAIL: Marcos Jr., Robredo stage back...</td>\n",
       "      <td>2 mins ago</td>\n",
       "      <td>Rappler.com</td>\n",
       "      <td>Fresh off the days-long Holy Week break, presi...</td>\n",
       "    </tr>\n",
       "    <tr>\n",
       "      <th>3</th>\n",
       "      <td>Use less air-con, drive slower to shun Russian...</td>\n",
       "      <td>Apr 21, 2022 10:15 PM PHT</td>\n",
       "      <td>Reuters</td>\n",
       "      <td>BRUSSELS, Belgium – Raise your air-conditioner...</td>\n",
       "    </tr>\n",
       "    <tr>\n",
       "      <th>4</th>\n",
       "      <td>LIST: Complaints filed against red-tagger Lorr...</td>\n",
       "      <td>Apr 21, 2022 7:55 PM PHT</td>\n",
       "      <td>Michelle Abad</td>\n",
       "      <td>MANILA, Philippines – Communications Undersecr...</td>\n",
       "    </tr>\n",
       "    <tr>\n",
       "      <th>5</th>\n",
       "      <td>Global tourism to recover from pandemic by 202...</td>\n",
       "      <td>Apr 21, 2022 9:15 PM PHT</td>\n",
       "      <td>Reuters</td>\n",
       "      <td>MANILA, Philippines – The global travel and to...</td>\n",
       "    </tr>\n",
       "    <tr>\n",
       "      <th>6</th>\n",
       "      <td>La Salle pulls off overtime escape, denies bre...</td>\n",
       "      <td>Apr 21, 2022 10:06 PM PHT</td>\n",
       "      <td>JR Isaga</td>\n",
       "      <td>MANILA, Philippines – Winless UE gave La Salle...</td>\n",
       "    </tr>\n",
       "    <tr>\n",
       "      <th>7</th>\n",
       "      <td>LIVE UPDATES: Overseas voting for the 2022 Phi...</td>\n",
       "      <td>2 hours ago</td>\n",
       "      <td>Jojo Dass</td>\n",
       "      <td>Over 1.6 million overseas Filipinos will begin...</td>\n",
       "    </tr>\n",
       "    <tr>\n",
       "      <th>8</th>\n",
       "      <td>LIVE UPDATES: Russia-Ukraine crisis</td>\n",
       "      <td>4 mins ago</td>\n",
       "      <td>Reuters</td>\n",
       "      <td>After weeks of escalating tensions in the regi...</td>\n",
       "    </tr>\n",
       "    <tr>\n",
       "      <th>9</th>\n",
       "      <td>Radisson Hotel Group plans Asia-Pacific expans...</td>\n",
       "      <td>Apr 21, 2022 8:55 PM PHT</td>\n",
       "      <td>Reuters</td>\n",
       "      <td>MANILA, Philippines – Radisson Hotel Group pla...</td>\n",
       "    </tr>\n",
       "    <tr>\n",
       "      <th>10</th>\n",
       "      <td>SCHEDULE: Campaign activities of national cand...</td>\n",
       "      <td>50 mins ago</td>\n",
       "      <td></td>\n",
       "      <td>The campaign period for the 2022 national elec...</td>\n",
       "    </tr>\n",
       "    <tr>\n",
       "      <th>11</th>\n",
       "      <td>Wesley So yields to Sevian in American Cup fir...</td>\n",
       "      <td>Apr 21, 2022 8:55 PM PHT</td>\n",
       "      <td>Roy Luarca</td>\n",
       "      <td>MANILA, Philippines – Wesley So suffered a sho...</td>\n",
       "    </tr>\n",
       "    <tr>\n",
       "      <th>12</th>\n",
       "      <td>Debate venue Sofitel threatens to back out ove...</td>\n",
       "      <td>Apr 21, 2022 8:37 PM PHT</td>\n",
       "      <td>Dwight de Leon</td>\n",
       "      <td>MANILA, Philippines – The final debates organi...</td>\n",
       "    </tr>\n",
       "    <tr>\n",
       "      <th>13</th>\n",
       "      <td>If elected, Leody de Guzman will first solve h...</td>\n",
       "      <td>Apr 21, 2022 8:39 PM PHT</td>\n",
       "      <td>Jairo Bolledo</td>\n",
       "      <td>MANILA, Philippines – Labor leader and preside...</td>\n",
       "    </tr>\n",
       "    <tr>\n",
       "      <th>14</th>\n",
       "      <td>CAMPAIGN TRAIL: After dropping survey points i...</td>\n",
       "      <td>10 mins ago</td>\n",
       "      <td>Lian Buan</td>\n",
       "      <td>Presidential candidate Ferdinand “Bongbong” Ma...</td>\n",
       "    </tr>\n",
       "  </tbody>\n",
       "</table>\n",
       "</div>"
      ],
      "text/plain": [
       "                                             headline  \\\n",
       "0   A prolonged China slowdown raises risks for gl...   \n",
       "1   Withdraw from race? ‘This fight is more than a...   \n",
       "2   CAMPAIGN TRAIL: Marcos Jr., Robredo stage back...   \n",
       "3   Use less air-con, drive slower to shun Russian...   \n",
       "4   LIST: Complaints filed against red-tagger Lorr...   \n",
       "5   Global tourism to recover from pandemic by 202...   \n",
       "6   La Salle pulls off overtime escape, denies bre...   \n",
       "7   LIVE UPDATES: Overseas voting for the 2022 Phi...   \n",
       "8                 LIVE UPDATES: Russia-Ukraine crisis   \n",
       "9   Radisson Hotel Group plans Asia-Pacific expans...   \n",
       "10  SCHEDULE: Campaign activities of national cand...   \n",
       "11  Wesley So yields to Sevian in American Cup fir...   \n",
       "12  Debate venue Sofitel threatens to back out ove...   \n",
       "13  If elected, Leody de Guzman will first solve h...   \n",
       "14  CAMPAIGN TRAIL: After dropping survey points i...   \n",
       "\n",
       "                         date          author  \\\n",
       "0    Apr 21, 2022 9:45 PM PHT         Reuters   \n",
       "1    Apr 21, 2022 8:00 PM PHT       Bea Cupin   \n",
       "2                  2 mins ago     Rappler.com   \n",
       "3   Apr 21, 2022 10:15 PM PHT         Reuters   \n",
       "4    Apr 21, 2022 7:55 PM PHT   Michelle Abad   \n",
       "5    Apr 21, 2022 9:15 PM PHT         Reuters   \n",
       "6   Apr 21, 2022 10:06 PM PHT        JR Isaga   \n",
       "7                 2 hours ago       Jojo Dass   \n",
       "8                  4 mins ago         Reuters   \n",
       "9    Apr 21, 2022 8:55 PM PHT         Reuters   \n",
       "10                50 mins ago                   \n",
       "11   Apr 21, 2022 8:55 PM PHT      Roy Luarca   \n",
       "12   Apr 21, 2022 8:37 PM PHT  Dwight de Leon   \n",
       "13   Apr 21, 2022 8:39 PM PHT   Jairo Bolledo   \n",
       "14                10 mins ago       Lian Buan   \n",
       "\n",
       "                                         full_article  \n",
       "0   BOAO, China – A prolonged slowdown in China wo...  \n",
       "1   CEBU, Philippines – Vice President Leni Robred...  \n",
       "2   Fresh off the days-long Holy Week break, presi...  \n",
       "3   BRUSSELS, Belgium – Raise your air-conditioner...  \n",
       "4   MANILA, Philippines – Communications Undersecr...  \n",
       "5   MANILA, Philippines – The global travel and to...  \n",
       "6   MANILA, Philippines – Winless UE gave La Salle...  \n",
       "7   Over 1.6 million overseas Filipinos will begin...  \n",
       "8   After weeks of escalating tensions in the regi...  \n",
       "9   MANILA, Philippines – Radisson Hotel Group pla...  \n",
       "10  The campaign period for the 2022 national elec...  \n",
       "11  MANILA, Philippines – Wesley So suffered a sho...  \n",
       "12  MANILA, Philippines – The final debates organi...  \n",
       "13  MANILA, Philippines – Labor leader and preside...  \n",
       "14  Presidential candidate Ferdinand “Bongbong” Ma...  "
      ]
     },
     "execution_count": 66,
     "metadata": {},
     "output_type": "execute_result"
    }
   ],
   "source": [
    "df_article_deets"
   ]
  },
  {
   "cell_type": "code",
   "execution_count": null,
   "id": "430b903e-4474-47d4-b1b0-0b14b80952a4",
   "metadata": {},
   "outputs": [],
   "source": []
  },
  {
   "cell_type": "code",
   "execution_count": null,
   "id": "6719e0f3-e5c4-43db-93d9-511e5f417991",
   "metadata": {},
   "outputs": [],
   "source": []
  }
 ],
 "metadata": {
  "kernelspec": {
   "display_name": "Python 3 (ipykernel)",
   "language": "python",
   "name": "python3"
  },
  "language_info": {
   "codemirror_mode": {
    "name": "ipython",
    "version": 3
   },
   "file_extension": ".py",
   "mimetype": "text/x-python",
   "name": "python",
   "nbconvert_exporter": "python",
   "pygments_lexer": "ipython3",
   "version": "3.9.2"
  }
 },
 "nbformat": 4,
 "nbformat_minor": 5
}
