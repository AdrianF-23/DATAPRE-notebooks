{
 "cells": [
  {
   "cell_type": "code",
   "execution_count": 1,
   "id": "2c28c2dd",
   "metadata": {},
   "outputs": [],
   "source": [
    "import requests\n",
    "import pandas as pd\n",
    "import numpy as np\n",
    "from bs4 import BeautifulSoup"
   ]
  },
  {
   "cell_type": "markdown",
   "id": "72e1e571-cd9c-42da-86a7-d8d7647e71e3",
   "metadata": {},
   "source": [
    "# News Scraper\n",
    "Objective:\n",
    "To take the following information from several online news articles\n",
    "- date\n",
    "- title\n",
    "- full article\n",
    "- author"
   ]
  },
  {
   "cell_type": "code",
   "execution_count": 2,
   "id": "39928e02-1e06-487c-a31e-1af32e407d12",
   "metadata": {},
   "outputs": [],
   "source": [
    "url = 'https://www.rappler.com/'\n",
    "webpage = requests.get(url)"
   ]
  },
  {
   "cell_type": "code",
   "execution_count": 3,
   "id": "b4867c7d-fd7b-4fab-bb69-4884994ba42f",
   "metadata": {},
   "outputs": [
    {
     "name": "stdout",
     "output_type": "stream",
     "text": [
      "<Response [200]>\n"
     ]
    }
   ],
   "source": [
    "print(webpage)"
   ]
  },
  {
   "cell_type": "markdown",
   "id": "f337aa6b-eaf5-40da-b755-240d307ce765",
   "metadata": {},
   "source": [
    "### Parse HTML Data"
   ]
  },
  {
   "cell_type": "code",
   "execution_count": 4,
   "id": "0cbe8ada-8bbf-4caf-a9a2-a44e7fb4ea94",
   "metadata": {},
   "outputs": [],
   "source": [
    "soup = BeautifulSoup(webpage.content, 'html.parser')"
   ]
  },
  {
   "cell_type": "code",
   "execution_count": 5,
   "id": "8c1c6a12-825e-43b4-9997-8afd6aac8fa9",
   "metadata": {},
   "outputs": [],
   "source": [
    "# take top stories of main page\n",
    "article_links = []\n",
    "# page_main_head = soup.find('div', id = 'top-stories')\n",
    "\n",
    "# can also take all of the articles on the main page\n",
    "page_main_head = soup.find('div', class_ = 'container')"
   ]
  },
  {
   "cell_type": "code",
   "execution_count": 6,
   "id": "6b434e2a-c69e-498e-894a-253d892317a5",
   "metadata": {},
   "outputs": [],
   "source": [
    "#takes url of top 5 links in Rappler's main page\n",
    "for a in page_main_head.find_all('a', type = False, target = False, class_ = False):\n",
    "    raw_link = a.get('href')\n",
    "    article_links.append(raw_link)"
   ]
  },
  {
   "cell_type": "code",
   "execution_count": 7,
   "id": "d19fd7a7-8740-4702-b4b1-c865578b1020",
   "metadata": {},
   "outputs": [],
   "source": [
    "#removes any duplicate links within the list\n",
    "final_links = list(set(article_links))"
   ]
  },
  {
   "cell_type": "code",
   "execution_count": 8,
   "id": "a23d4ef2-57f4-41a5-a0aa-fdee9ea20410",
   "metadata": {},
   "outputs": [],
   "source": [
    "article_details = []\n",
    "def scraper(site_url):\n",
    "    # article_details = []\n",
    "    url = site_url\n",
    "    article_webpage = requests.get(url)\n",
    "    sub_soup = BeautifulSoup(article_webpage.content, 'html.parser')\n",
    "    article_hl = sub_soup.find('h1', class_ = 'post-single__title').text.strip()\n",
    "    article_time = sub_soup.find('time', class_ = 'entry-date published').text.strip()\n",
    "    article_auth = sub_soup.find('div', class_ = 'post-single__authors').text.strip()\n",
    "    content = sub_soup.find('div', class_ = 'post-single__content entry-content')\n",
    "    get_article_par = content.find_all('p')\n",
    "    article_par = gettext(get_article_par)\n",
    "    article_details.append((article_hl, article_time, article_auth, article_par))\n",
    "    return article_details\n",
    "    \n",
    "def gettext(get_article_par):\n",
    "    article_txt = []\n",
    "    for par in get_article_par:\n",
    "        text = par.text.strip()\n",
    "        article_txt.append(text)\n",
    "        article_full = \" \".join(article_txt)\n",
    "    return article_full"
   ]
  },
  {
   "cell_type": "code",
   "execution_count": 9,
   "id": "207c9445-2f3f-4976-b91e-851b46f831a4",
   "metadata": {
    "tags": []
   },
   "outputs": [],
   "source": [
    "# article_basta = scraper(final_links[0])\n",
    "for link in final_links:\n",
    "    articles = scraper(link)"
   ]
  },
  {
   "cell_type": "code",
   "execution_count": 11,
   "id": "9f662486-e06d-464c-b4de-87dc0bd08f58",
   "metadata": {},
   "outputs": [],
   "source": [
    "label = ['headline', 'date', 'author', 'full_article']\n",
    "df_article_deets = pd.DataFrame(articles, columns = label)\n",
    "df_article_deets.to_json('Rappler Articles JSON.json', orient = 'records')"
   ]
  },
  {
   "cell_type": "code",
   "execution_count": 59,
   "id": "85d0d249-c54f-44e3-9030-81f99f864573",
   "metadata": {},
   "outputs": [
    {
     "data": {
      "text/html": [
       "<div>\n",
       "<style scoped>\n",
       "    .dataframe tbody tr th:only-of-type {\n",
       "        vertical-align: middle;\n",
       "    }\n",
       "\n",
       "    .dataframe tbody tr th {\n",
       "        vertical-align: top;\n",
       "    }\n",
       "\n",
       "    .dataframe thead th {\n",
       "        text-align: right;\n",
       "    }\n",
       "</style>\n",
       "<table border=\"1\" class=\"dataframe\">\n",
       "  <thead>\n",
       "    <tr style=\"text-align: right;\">\n",
       "      <th></th>\n",
       "      <th>headline</th>\n",
       "      <th>date</th>\n",
       "      <th>author</th>\n",
       "      <th>full_article</th>\n",
       "    </tr>\n",
       "  </thead>\n",
       "  <tbody>\n",
       "    <tr>\n",
       "      <th>0</th>\n",
       "      <td>Russia says blast cripples Black Sea flagship,...</td>\n",
       "      <td>Apr 14, 2022 1:02 PM PHT</td>\n",
       "      <td>Reuters</td>\n",
       "      <td>KYIV/LVIV, Ukraine – Russia said on Thursday, ...</td>\n",
       "    </tr>\n",
       "    <tr>\n",
       "      <th>1</th>\n",
       "      <td>Oil traders to cut Russian oil purchases from ...</td>\n",
       "      <td>Apr 14, 2022 2:50 PM PHT</td>\n",
       "      <td>Reuters</td>\n",
       "      <td>LONDON, United Kingdom – Major global trading ...</td>\n",
       "    </tr>\n",
       "    <tr>\n",
       "      <th>2</th>\n",
       "      <td>SOCO chief agrees with Fortun: Drug war death ...</td>\n",
       "      <td>Apr 14, 2022 2:10 PM PHT</td>\n",
       "      <td>Rambo Talabong</td>\n",
       "      <td>The chief of the Scene of Crime Operations (SO...</td>\n",
       "    </tr>\n",
       "    <tr>\n",
       "      <th>3</th>\n",
       "      <td>LIVE UPDATES: Russia-Ukraine crisis</td>\n",
       "      <td>21 mins ago</td>\n",
       "      <td>Reuters</td>\n",
       "      <td>After weeks of escalating tensions in the regi...</td>\n",
       "    </tr>\n",
       "    <tr>\n",
       "      <th>4</th>\n",
       "      <td>US says advanced hackers have shown ability to...</td>\n",
       "      <td>Apr 14, 2022 1:14 PM PHT</td>\n",
       "      <td>Reuters</td>\n",
       "      <td>Advanced hackers have shown they can take cont...</td>\n",
       "    </tr>\n",
       "    <tr>\n",
       "      <th>5</th>\n",
       "      <td>Fiji investigates arrival of Russian oligarch’...</td>\n",
       "      <td>Apr 14, 2022 2:44 PM PHT</td>\n",
       "      <td>Reuters</td>\n",
       "      <td>SYDNEY, Australia – Fiji police investigated o...</td>\n",
       "    </tr>\n",
       "    <tr>\n",
       "      <th>6</th>\n",
       "      <td>SPOTLIGHT LUZON: Daily news and latest updates...</td>\n",
       "      <td>2 hours ago</td>\n",
       "      <td>Ahikam Pasion</td>\n",
       "      <td>Luzon is the most populous of the Philippines’...</td>\n",
       "    </tr>\n",
       "    <tr>\n",
       "      <th>7</th>\n",
       "      <td>Pelicans push past Spurs, earn date with Clipp...</td>\n",
       "      <td>Apr 14, 2022 1:03 PM PHT</td>\n",
       "      <td>Reuters</td>\n",
       "      <td>CJ McCollum scored 32 points and Brandon Ingra...</td>\n",
       "    </tr>\n",
       "    <tr>\n",
       "      <th>8</th>\n",
       "      <td>Dagupan brings back Bangus Festival after 2-ye...</td>\n",
       "      <td>Apr 14, 2022 1:15 PM PHT</td>\n",
       "      <td>Ahikam Pasion</td>\n",
       "      <td>DAGUPAN CITY, Philippines – This city’s famous...</td>\n",
       "    </tr>\n",
       "    <tr>\n",
       "      <th>9</th>\n",
       "      <td>Ugandan filmmaker eyes new Africa narrative af...</td>\n",
       "      <td>Apr 14, 2022 1:01 PM PHT</td>\n",
       "      <td>Reuters</td>\n",
       "      <td>KAMPALA, Uganda – Ugandan film producer Raymon...</td>\n",
       "    </tr>\n",
       "    <tr>\n",
       "      <th>10</th>\n",
       "      <td>Comedian Ali Wong and husband Justin Hakuta to...</td>\n",
       "      <td>Apr 14, 2022 1:37 PM PHT</td>\n",
       "      <td>Rappler.com</td>\n",
       "      <td>MANILA, Philippines – Stand-up comedian Ali Wo...</td>\n",
       "    </tr>\n",
       "    <tr>\n",
       "      <th>11</th>\n",
       "      <td>DOE sets 15-day price freeze for kerosene, LPG...</td>\n",
       "      <td>Apr 14, 2022 2:07 PM PHT</td>\n",
       "      <td>Ralf Rivas</td>\n",
       "      <td>MANILA, Philippines – The Department of Energy...</td>\n",
       "    </tr>\n",
       "    <tr>\n",
       "      <th>12</th>\n",
       "      <td>Microsoft’s PC Game Pass preview: 5 reasons wh...</td>\n",
       "      <td>Apr 14, 2022 1:28 PM PHT</td>\n",
       "      <td>Kyle Chua</td>\n",
       "      <td>Microsoft announced that it’s finally bringing...</td>\n",
       "    </tr>\n",
       "    <tr>\n",
       "      <th>13</th>\n",
       "      <td>China’s Xi says sticking to tough COVID curbs ...</td>\n",
       "      <td>Apr 14, 2022 1:26 PM PHT</td>\n",
       "      <td>Reuters</td>\n",
       "      <td>SHANGHAI, China – President Xi Jinping has sai...</td>\n",
       "    </tr>\n",
       "    <tr>\n",
       "      <th>14</th>\n",
       "      <td>[OPINION] Beyond the Manchurian candidate</td>\n",
       "      <td>Apr 14, 2022 1:28 PM PHT</td>\n",
       "      <td>Alvin Camba</td>\n",
       "      <td>In today’s popular parlance, a Manchurian cand...</td>\n",
       "    </tr>\n",
       "  </tbody>\n",
       "</table>\n",
       "</div>"
      ],
      "text/plain": [
       "                                             headline  \\\n",
       "0   Russia says blast cripples Black Sea flagship,...   \n",
       "1   Oil traders to cut Russian oil purchases from ...   \n",
       "2   SOCO chief agrees with Fortun: Drug war death ...   \n",
       "3                 LIVE UPDATES: Russia-Ukraine crisis   \n",
       "4   US says advanced hackers have shown ability to...   \n",
       "5   Fiji investigates arrival of Russian oligarch’...   \n",
       "6   SPOTLIGHT LUZON: Daily news and latest updates...   \n",
       "7   Pelicans push past Spurs, earn date with Clipp...   \n",
       "8   Dagupan brings back Bangus Festival after 2-ye...   \n",
       "9   Ugandan filmmaker eyes new Africa narrative af...   \n",
       "10  Comedian Ali Wong and husband Justin Hakuta to...   \n",
       "11  DOE sets 15-day price freeze for kerosene, LPG...   \n",
       "12  Microsoft’s PC Game Pass preview: 5 reasons wh...   \n",
       "13  China’s Xi says sticking to tough COVID curbs ...   \n",
       "14          [OPINION] Beyond the Manchurian candidate   \n",
       "\n",
       "                        date          author  \\\n",
       "0   Apr 14, 2022 1:02 PM PHT         Reuters   \n",
       "1   Apr 14, 2022 2:50 PM PHT         Reuters   \n",
       "2   Apr 14, 2022 2:10 PM PHT  Rambo Talabong   \n",
       "3                21 mins ago         Reuters   \n",
       "4   Apr 14, 2022 1:14 PM PHT         Reuters   \n",
       "5   Apr 14, 2022 2:44 PM PHT         Reuters   \n",
       "6                2 hours ago   Ahikam Pasion   \n",
       "7   Apr 14, 2022 1:03 PM PHT         Reuters   \n",
       "8   Apr 14, 2022 1:15 PM PHT   Ahikam Pasion   \n",
       "9   Apr 14, 2022 1:01 PM PHT         Reuters   \n",
       "10  Apr 14, 2022 1:37 PM PHT     Rappler.com   \n",
       "11  Apr 14, 2022 2:07 PM PHT      Ralf Rivas   \n",
       "12  Apr 14, 2022 1:28 PM PHT       Kyle Chua   \n",
       "13  Apr 14, 2022 1:26 PM PHT         Reuters   \n",
       "14  Apr 14, 2022 1:28 PM PHT     Alvin Camba   \n",
       "\n",
       "                                         full_article  \n",
       "0   KYIV/LVIV, Ukraine – Russia said on Thursday, ...  \n",
       "1   LONDON, United Kingdom – Major global trading ...  \n",
       "2   The chief of the Scene of Crime Operations (SO...  \n",
       "3   After weeks of escalating tensions in the regi...  \n",
       "4   Advanced hackers have shown they can take cont...  \n",
       "5   SYDNEY, Australia – Fiji police investigated o...  \n",
       "6   Luzon is the most populous of the Philippines’...  \n",
       "7   CJ McCollum scored 32 points and Brandon Ingra...  \n",
       "8   DAGUPAN CITY, Philippines – This city’s famous...  \n",
       "9   KAMPALA, Uganda – Ugandan film producer Raymon...  \n",
       "10  MANILA, Philippines – Stand-up comedian Ali Wo...  \n",
       "11  MANILA, Philippines – The Department of Energy...  \n",
       "12  Microsoft announced that it’s finally bringing...  \n",
       "13  SHANGHAI, China – President Xi Jinping has sai...  \n",
       "14  In today’s popular parlance, a Manchurian cand...  "
      ]
     },
     "execution_count": 59,
     "metadata": {},
     "output_type": "execute_result"
    }
   ],
   "source": [
    "df_article_deets"
   ]
  },
  {
   "cell_type": "code",
   "execution_count": null,
   "id": "430b903e-4474-47d4-b1b0-0b14b80952a4",
   "metadata": {},
   "outputs": [],
   "source": []
  }
 ],
 "metadata": {
  "kernelspec": {
   "display_name": "Python 3 (ipykernel)",
   "language": "python",
   "name": "python3"
  },
  "language_info": {
   "codemirror_mode": {
    "name": "ipython",
    "version": 3
   },
   "file_extension": ".py",
   "mimetype": "text/x-python",
   "name": "python",
   "nbconvert_exporter": "python",
   "pygments_lexer": "ipython3",
   "version": "3.9.2"
  }
 },
 "nbformat": 4,
 "nbformat_minor": 5
}
