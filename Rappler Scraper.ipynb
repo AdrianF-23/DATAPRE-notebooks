{
 "cells": [
  {
   "cell_type": "code",
   "execution_count": 1,
   "id": "2c28c2dd",
   "metadata": {},
   "outputs": [],
   "source": [
    "import requests\n",
    "import pandas as pd\n",
    "import numpy as np\n",
    "from bs4 import BeautifulSoup"
   ]
  },
  {
   "cell_type": "markdown",
   "id": "72e1e571-cd9c-42da-86a7-d8d7647e71e3",
   "metadata": {},
   "source": [
    "# News Scraper\n",
    "Objective:\n",
    "To take the following information from several online news articles by Rappler:\n",
    "- date\n",
    "- title\n",
    "- full article\n",
    "- author\n",
    "\n",
    "Exports the scraped article information to JSON"
   ]
  },
  {
   "cell_type": "markdown",
   "id": "fc7d49bf-439a-452a-83a4-0a4ea317432b",
   "metadata": {},
   "source": [
    "### Get URL using requests"
   ]
  },
  {
   "cell_type": "code",
   "execution_count": 2,
   "id": "39928e02-1e06-487c-a31e-1af32e407d12",
   "metadata": {},
   "outputs": [],
   "source": [
    "url = 'https://www.rappler.com/'\n",
    "webpage = requests.get(url)"
   ]
  },
  {
   "cell_type": "markdown",
   "id": "f337aa6b-eaf5-40da-b755-240d307ce765",
   "metadata": {},
   "source": [
    "### Parse HTML Data"
   ]
  },
  {
   "cell_type": "code",
   "execution_count": 3,
   "id": "0cbe8ada-8bbf-4caf-a9a2-a44e7fb4ea94",
   "metadata": {},
   "outputs": [],
   "source": [
    "soup = BeautifulSoup(webpage.content, 'html.parser')"
   ]
  },
  {
   "cell_type": "code",
   "execution_count": 4,
   "id": "8c1c6a12-825e-43b4-9997-8afd6aac8fa9",
   "metadata": {},
   "outputs": [],
   "source": [
    "# take top stories of main page\n",
    "article_links = []\n",
    "# page_main_head = soup.find('div', id = 'top-stories')\n",
    "\n",
    "# can also take all of the articles on the main page\n",
    "page_main_head = soup.find('div', class_ = 'container')"
   ]
  },
  {
   "cell_type": "code",
   "execution_count": 5,
   "id": "6b434e2a-c69e-498e-894a-253d892317a5",
   "metadata": {},
   "outputs": [],
   "source": [
    "# takes url of all the articles on Rappler's main page\n",
    "# parameters set in the find_all are specified such that it skips unecessary links such as share buttons, news category links, etc.\n",
    "for a in page_main_head.find_all('a', type = False, target = False, class_ = False):\n",
    "    raw_link = a.get('href')\n",
    "    article_links.append(raw_link)"
   ]
  },
  {
   "cell_type": "code",
   "execution_count": 6,
   "id": "d19fd7a7-8740-4702-b4b1-c865578b1020",
   "metadata": {},
   "outputs": [],
   "source": [
    "#removes any duplicate links within the list\n",
    "final_links = list(set(article_links))"
   ]
  },
  {
   "cell_type": "markdown",
   "id": "a3c2045b-b6cc-49cf-ac8c-1545984bce0b",
   "metadata": {},
   "source": [
    "### Create scraper function to be called per item on the link array"
   ]
  },
  {
   "cell_type": "code",
   "execution_count": 7,
   "id": "a23d4ef2-57f4-41a5-a0aa-fdee9ea20410",
   "metadata": {},
   "outputs": [],
   "source": [
    "article_details = []\n",
    "def scraper(site_url):\n",
    "    url = site_url\n",
    "    article_webpage = requests.get(url)\n",
    "    sub_soup = BeautifulSoup(article_webpage.content, 'html.parser')\n",
    "    article_hl = sub_soup.find('h1', class_ = 'post-single__title').text.strip()\n",
    "    article_time = sub_soup.find('time', class_ = 'entry-date published').text.strip()\n",
    "    article_auth = sub_soup.find('div', class_ = 'post-single__authors').text.strip()\n",
    "    content = sub_soup.find('div', class_ = 'post-single__content entry-content')\n",
    "    get_article_par = content.find_all('p')\n",
    "    article_par = gettext(get_article_par)\n",
    "    article_details.append((article_hl, article_time, article_auth, article_par))\n",
    "    return article_details\n",
    "    \n",
    "def gettext(get_article_par):\n",
    "    article_txt = []\n",
    "    for par in get_article_par:\n",
    "        text = par.text.strip()\n",
    "        article_txt.append(text)\n",
    "        article_full = \" \".join(article_txt)\n",
    "    return article_full"
   ]
  },
  {
   "cell_type": "code",
   "execution_count": 8,
   "id": "207c9445-2f3f-4976-b91e-851b46f831a4",
   "metadata": {
    "tags": []
   },
   "outputs": [],
   "source": [
    "for link in final_links:\n",
    "    articles = scraper(link)"
   ]
  },
  {
   "cell_type": "markdown",
   "id": "176453af-d2da-4777-b8d1-38322733734b",
   "metadata": {},
   "source": [
    "### Format list to pandas dataframe then export to JSON"
   ]
  },
  {
   "cell_type": "code",
   "execution_count": 9,
   "id": "9f662486-e06d-464c-b4de-87dc0bd08f58",
   "metadata": {},
   "outputs": [],
   "source": [
    "label = ['headline', 'date', 'author', 'full_article']\n",
    "df_article_deets = pd.DataFrame(articles, columns = label)\n",
    "# drops live update articles since these articles do not have a proper date format (written as \"x Hours Ago\")\n",
    "i = 0\n",
    "for dates in df_article_deets.date:\n",
    "    if len(dates.split()) == 3:\n",
    "        df_article_deets = df_article_deets.drop([i])\n",
    "    i += 1\n",
    "df_article_deets.to_json('Rappler Articles JSON.json', orient = 'records')"
   ]
  },
  {
   "cell_type": "code",
   "execution_count": 10,
   "id": "85d0d249-c54f-44e3-9030-81f99f864573",
   "metadata": {},
   "outputs": [
    {
     "data": {
      "text/html": [
       "<div>\n",
       "<style scoped>\n",
       "    .dataframe tbody tr th:only-of-type {\n",
       "        vertical-align: middle;\n",
       "    }\n",
       "\n",
       "    .dataframe tbody tr th {\n",
       "        vertical-align: top;\n",
       "    }\n",
       "\n",
       "    .dataframe thead th {\n",
       "        text-align: right;\n",
       "    }\n",
       "</style>\n",
       "<table border=\"1\" class=\"dataframe\">\n",
       "  <thead>\n",
       "    <tr style=\"text-align: right;\">\n",
       "      <th></th>\n",
       "      <th>headline</th>\n",
       "      <th>date</th>\n",
       "      <th>author</th>\n",
       "      <th>full_article</th>\n",
       "    </tr>\n",
       "  </thead>\n",
       "  <tbody>\n",
       "    <tr>\n",
       "      <th>0</th>\n",
       "      <td>Korean leaders exchange friendly letters in ra...</td>\n",
       "      <td>Apr 22, 2022 8:05 AM PHT</td>\n",
       "      <td>Reuters</td>\n",
       "      <td>SEOUL, South Korea – North Korean leader Kim J...</td>\n",
       "    </tr>\n",
       "    <tr>\n",
       "      <th>1</th>\n",
       "      <td>‘Always running scared:’ Marcos, Duterte retur...</td>\n",
       "      <td>Apr 21, 2022 10:58 PM PHT</td>\n",
       "      <td>Lian Buan</td>\n",
       "      <td>LAGUNA, Philippines – Ferdinand “Bongbong” Mar...</td>\n",
       "    </tr>\n",
       "    <tr>\n",
       "      <th>2</th>\n",
       "      <td>Brazil’s Bolsonaro pardons political ally, snu...</td>\n",
       "      <td>Apr 22, 2022 8:45 AM PHT</td>\n",
       "      <td>Reuters</td>\n",
       "      <td>RIO DE JANEIRO, Brazil – Brazilian President J...</td>\n",
       "    </tr>\n",
       "    <tr>\n",
       "      <th>3</th>\n",
       "      <td>14,000 tourists stay in Ilocos Norte during Ho...</td>\n",
       "      <td>Apr 22, 2022 7:57 AM PHT</td>\n",
       "      <td>John Michael Mugas</td>\n",
       "      <td>LAOAG CITY, Ilocos Norte – Tourists started tr...</td>\n",
       "    </tr>\n",
       "    <tr>\n",
       "      <th>4</th>\n",
       "      <td>Musk secures $46.5 billion in funding for Twit...</td>\n",
       "      <td>Apr 21, 2022 10:56 PM PHT</td>\n",
       "      <td>Reuters</td>\n",
       "      <td>Elon Musk has secured $46.5 billion in funding...</td>\n",
       "    </tr>\n",
       "    <tr>\n",
       "      <th>5</th>\n",
       "      <td>Big companies manage to pass on soaring costs ...</td>\n",
       "      <td>Apr 21, 2022 10:45 PM PHT</td>\n",
       "      <td>Reuters</td>\n",
       "      <td>ZURICH, Switzerland – Makers of chocolate bars...</td>\n",
       "    </tr>\n",
       "    <tr>\n",
       "      <th>6</th>\n",
       "      <td>If elected, Leody de Guzman will first solve h...</td>\n",
       "      <td>Apr 21, 2022 8:39 PM PHT</td>\n",
       "      <td>Jairo Bolledo</td>\n",
       "      <td>MANILA, Philippines – Labor leader and preside...</td>\n",
       "    </tr>\n",
       "    <tr>\n",
       "      <th>7</th>\n",
       "      <td>Russian central bank eyes rate cut, warns of s...</td>\n",
       "      <td>Apr 22, 2022 8:40 AM PHT</td>\n",
       "      <td>Reuters</td>\n",
       "      <td>Russia’s central bank will consider cutting it...</td>\n",
       "    </tr>\n",
       "    <tr>\n",
       "      <th>8</th>\n",
       "      <td>Olsen Racela hopes win over NU serves as ‘turn...</td>\n",
       "      <td>Apr 21, 2022 11:43 PM PHT</td>\n",
       "      <td>Martin Mendoza</td>\n",
       "      <td>MANILA, Philippines – FEU Tamaraws head coach ...</td>\n",
       "    </tr>\n",
       "    <tr>\n",
       "      <th>9</th>\n",
       "      <td>Florida set to strip Disney of self-governing ...</td>\n",
       "      <td>Apr 22, 2022 8:34 AM PHT</td>\n",
       "      <td>Reuters</td>\n",
       "      <td>Florida lawmakers on Thursday, April 21, gave ...</td>\n",
       "    </tr>\n",
       "    <tr>\n",
       "      <th>11</th>\n",
       "      <td>Aika Robredo seeks NBI help over fake lewd vid...</td>\n",
       "      <td>Apr 21, 2022 10:57 PM PHT</td>\n",
       "      <td></td>\n",
       "      <td>Today on Rappler – the latest news in the Phil...</td>\n",
       "    </tr>\n",
       "    <tr>\n",
       "      <th>12</th>\n",
       "      <td>100 Baguio-Benguet firms back Robredo despite ...</td>\n",
       "      <td>Apr 22, 2022 7:30 AM PHT</td>\n",
       "      <td>Sherwin de Vera</td>\n",
       "      <td>BAGUIO CITY, Philippines  — Masked men on boar...</td>\n",
       "    </tr>\n",
       "    <tr>\n",
       "      <th>14</th>\n",
       "      <td>Debate venue Sofitel threatens to back out ove...</td>\n",
       "      <td>Apr 21, 2022 8:37 PM PHT</td>\n",
       "      <td>Dwight de Leon</td>\n",
       "      <td>MANILA, Philippines – The final debates organi...</td>\n",
       "    </tr>\n",
       "  </tbody>\n",
       "</table>\n",
       "</div>"
      ],
      "text/plain": [
       "                                             headline  \\\n",
       "0   Korean leaders exchange friendly letters in ra...   \n",
       "1   ‘Always running scared:’ Marcos, Duterte retur...   \n",
       "2   Brazil’s Bolsonaro pardons political ally, snu...   \n",
       "3   14,000 tourists stay in Ilocos Norte during Ho...   \n",
       "4   Musk secures $46.5 billion in funding for Twit...   \n",
       "5   Big companies manage to pass on soaring costs ...   \n",
       "6   If elected, Leody de Guzman will first solve h...   \n",
       "7   Russian central bank eyes rate cut, warns of s...   \n",
       "8   Olsen Racela hopes win over NU serves as ‘turn...   \n",
       "9   Florida set to strip Disney of self-governing ...   \n",
       "11  Aika Robredo seeks NBI help over fake lewd vid...   \n",
       "12  100 Baguio-Benguet firms back Robredo despite ...   \n",
       "14  Debate venue Sofitel threatens to back out ove...   \n",
       "\n",
       "                         date              author  \\\n",
       "0    Apr 22, 2022 8:05 AM PHT             Reuters   \n",
       "1   Apr 21, 2022 10:58 PM PHT           Lian Buan   \n",
       "2    Apr 22, 2022 8:45 AM PHT             Reuters   \n",
       "3    Apr 22, 2022 7:57 AM PHT  John Michael Mugas   \n",
       "4   Apr 21, 2022 10:56 PM PHT             Reuters   \n",
       "5   Apr 21, 2022 10:45 PM PHT             Reuters   \n",
       "6    Apr 21, 2022 8:39 PM PHT       Jairo Bolledo   \n",
       "7    Apr 22, 2022 8:40 AM PHT             Reuters   \n",
       "8   Apr 21, 2022 11:43 PM PHT      Martin Mendoza   \n",
       "9    Apr 22, 2022 8:34 AM PHT             Reuters   \n",
       "11  Apr 21, 2022 10:57 PM PHT                       \n",
       "12   Apr 22, 2022 7:30 AM PHT     Sherwin de Vera   \n",
       "14   Apr 21, 2022 8:37 PM PHT      Dwight de Leon   \n",
       "\n",
       "                                         full_article  \n",
       "0   SEOUL, South Korea – North Korean leader Kim J...  \n",
       "1   LAGUNA, Philippines – Ferdinand “Bongbong” Mar...  \n",
       "2   RIO DE JANEIRO, Brazil – Brazilian President J...  \n",
       "3   LAOAG CITY, Ilocos Norte – Tourists started tr...  \n",
       "4   Elon Musk has secured $46.5 billion in funding...  \n",
       "5   ZURICH, Switzerland – Makers of chocolate bars...  \n",
       "6   MANILA, Philippines – Labor leader and preside...  \n",
       "7   Russia’s central bank will consider cutting it...  \n",
       "8   MANILA, Philippines – FEU Tamaraws head coach ...  \n",
       "9   Florida lawmakers on Thursday, April 21, gave ...  \n",
       "11  Today on Rappler – the latest news in the Phil...  \n",
       "12  BAGUIO CITY, Philippines  — Masked men on boar...  \n",
       "14  MANILA, Philippines – The final debates organi...  "
      ]
     },
     "execution_count": 10,
     "metadata": {},
     "output_type": "execute_result"
    }
   ],
   "source": [
    "df_article_deets"
   ]
  },
  {
   "cell_type": "code",
   "execution_count": null,
   "id": "62261847-e3f5-4b64-a6e3-aa67e37a51b5",
   "metadata": {},
   "outputs": [],
   "source": []
  }
 ],
 "metadata": {
  "kernelspec": {
   "display_name": "Python 3 (ipykernel)",
   "language": "python",
   "name": "python3"
  },
  "language_info": {
   "codemirror_mode": {
    "name": "ipython",
    "version": 3
   },
   "file_extension": ".py",
   "mimetype": "text/x-python",
   "name": "python",
   "nbconvert_exporter": "python",
   "pygments_lexer": "ipython3",
   "version": "3.9.2"
  }
 },
 "nbformat": 4,
 "nbformat_minor": 5
}
