{
 "cells": [
  {
   "cell_type": "code",
   "execution_count": 30,
   "id": "4686b99c",
   "metadata": {},
   "outputs": [
    {
     "name": "stdout",
     "output_type": "stream",
     "text": [
      "[('cat', 4), ('dog', 5), ('mouse', 6)]\n",
      "0\n",
      "<zip object at 0x000001A464A089C0>\n"
     ]
    }
   ],
   "source": [
    "a = [1, 2, 3]\n",
    "b = ['cat', 'dog', 'mouse']\n",
    "c = range(4, 7)\n",
    "comp = zip(b,c)\n",
    "print(list(comp))\n",
    "print(len(list(comp)))\n",
    "print(comp)\n"
   ]
  },
  {
   "cell_type": "code",
   "execution_count": 43,
   "id": "5d93f2a7",
   "metadata": {},
   "outputs": [
    {
     "name": "stdout",
     "output_type": "stream",
     "text": [
      "0\n",
      "1\n",
      "2\n",
      "3\n",
      "4\n",
      "5\n",
      "==================\n",
      "0\n",
      "2\n",
      "4\n",
      "=================-\n",
      "1\n",
      "3\n",
      "5\n",
      "[[0, 1], [2, 3], [4, 5]]\n"
     ]
    }
   ],
   "source": [
    "i = 1\n",
    "d = [[0,1], [2,3], [4,5]]\n",
    "for x, y in d:\n",
    "    print(x)\n",
    "    print(y)\n",
    "print('==================')\n",
    "for x, y in d:\n",
    "    print(x)\n",
    "print('=================-')\n",
    "for x, y in d:\n",
    "    print(y)\n",
    "print(d)"
   ]
  },
  {
   "cell_type": "code",
   "execution_count": null,
   "id": "b3c0be24",
   "metadata": {},
   "outputs": [],
   "source": []
  },
  {
   "cell_type": "code",
   "execution_count": null,
   "id": "7d595183",
   "metadata": {},
   "outputs": [],
   "source": []
  }
 ],
 "metadata": {
  "kernelspec": {
   "display_name": "Python 3 (ipykernel)",
   "language": "python",
   "name": "python3"
  },
  "language_info": {
   "codemirror_mode": {
    "name": "ipython",
    "version": 3
   },
   "file_extension": ".py",
   "mimetype": "text/x-python",
   "name": "python",
   "nbconvert_exporter": "python",
   "pygments_lexer": "ipython3",
   "version": "3.9.2"
  }
 },
 "nbformat": 4,
 "nbformat_minor": 5
}
